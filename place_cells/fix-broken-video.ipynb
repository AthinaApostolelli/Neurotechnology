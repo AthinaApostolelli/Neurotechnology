{
 "cells": [
  {
   "cell_type": "code",
   "execution_count": 1,
   "id": "a1b1ec2a",
   "metadata": {},
   "outputs": [],
   "source": [
    "import numpy as np\n",
    "import cv2\n",
    "import matplotlib.pyplot as plt\n",
    "import ffmpeg\n",
    "import os, sys, subprocess, shlex, re\n",
    "from subprocess import call\n",
    "from pprint import pprint"
   ]
  },
  {
   "cell_type": "code",
   "execution_count": 5,
   "id": "0dfacffd",
   "metadata": {},
   "outputs": [],
   "source": [
    "# sys.path.append('/path/to/ffmpeg')\n",
    "video_path = 'I:/Dropbox (Yanik Lab)/BMI/rEO6_video_corrapted'"
   ]
  },
  {
   "cell_type": "code",
   "execution_count": 2,
   "id": "211b160e",
   "metadata": {},
   "outputs": [],
   "source": [
    "def probe_file(filename):\n",
    "    pprint(ffmpeg.probe(filename)[\"streams\"])\n",
    "#     cmnd = ['ffprobe', '-show_format', '-pretty', '-loglevel', 'quiet', filename]\n",
    "#     p = subprocess.Popen(cmnd, stdout=subprocess.PIPE, stderr=subprocess.PIPE)\n",
    "#     print (filename)\n",
    "#     out, err =  p.communicate()\n",
    "#     print (\"==========output==========\")\n",
    "#     pprint( out)\n",
    "#     return out\n",
    "#     if err:\n",
    "#         print( \"========= error ========\")\n",
    "#         print (err)"
   ]
  },
  {
   "cell_type": "code",
   "execution_count": 3,
   "id": "e38b72d6",
   "metadata": {},
   "outputs": [
    {
     "name": "stdout",
     "output_type": "stream",
     "text": [
      "[{'avg_frame_rate': '250000/925108863',\n",
      "  'bit_rate': '311',\n",
      "  'bits_per_raw_sample': '8',\n",
      "  'chroma_location': 'left',\n",
      "  'closed_captions': 0,\n",
      "  'codec_long_name': 'H.264 / AVC / MPEG-4 AVC / MPEG-4 part 10',\n",
      "  'codec_name': 'h264',\n",
      "  'codec_tag': '0x34363248',\n",
      "  'codec_tag_string': 'H264',\n",
      "  'codec_time_base': '925108863/500000',\n",
      "  'codec_type': 'video',\n",
      "  'coded_height': 1024,\n",
      "  'coded_width': 1280,\n",
      "  'display_aspect_ratio': '5:4',\n",
      "  'disposition': {'attached_pic': 0,\n",
      "                  'clean_effects': 0,\n",
      "                  'comment': 0,\n",
      "                  'default': 0,\n",
      "                  'dub': 0,\n",
      "                  'forced': 0,\n",
      "                  'hearing_impaired': 0,\n",
      "                  'karaoke': 0,\n",
      "                  'lyrics': 0,\n",
      "                  'original': 0,\n",
      "                  'timed_thumbnails': 0,\n",
      "                  'visual_impaired': 0},\n",
      "  'duration': '627900988.801716',\n",
      "  'duration_ts': 169683,\n",
      "  'field_order': 'progressive',\n",
      "  'has_b_frames': 0,\n",
      "  'height': 1024,\n",
      "  'index': 0,\n",
      "  'is_avc': 'false',\n",
      "  'level': 52,\n",
      "  'nal_length_size': '0',\n",
      "  'nb_frames': '169683',\n",
      "  'pix_fmt': 'yuv420p',\n",
      "  'profile': 'Constrained Baseline',\n",
      "  'r_frame_rate': '250000/925108863',\n",
      "  'refs': 1,\n",
      "  'sample_aspect_ratio': '1:1',\n",
      "  'start_pts': 0,\n",
      "  'start_time': '0.000000',\n",
      "  'time_base': '925108863/250000',\n",
      "  'width': 1280}]\n"
     ]
    }
   ],
   "source": [
    "filename=os.path.join(video_path,'8_corrupted.avi')\n",
    "probe_file(filename)"
   ]
  },
  {
   "cell_type": "code",
   "execution_count": 6,
   "id": "fda35b80",
   "metadata": {},
   "outputs": [],
   "source": [
    "path_fixed=os.path.join(video_path,'8_fixed.avi')\n",
    "path_broken=os.path.join(video_path,'8_corrupted.avi')\n",
    "\n",
    "#Define the codec\n",
    "fourcc = cv2.VideoWriter_fourcc('m', 'p', '4', 'v')\n",
    "\n",
    "#\n",
    "fps=54.1558 # 6\n",
    "width=1280\n",
    "height=1024\n",
    "# video_writer = cv2.VideoWriter(path_fixed,fourcc, fps, (width,height))"
   ]
  },
  {
   "cell_type": "code",
   "execution_count": null,
   "id": "d412d6e9",
   "metadata": {},
   "outputs": [],
   "source": [
    "cap = cv2.VideoCapture(path_broken)\n",
    "video_writer = cv2.VideoWriter(path_fixed,fourcc, fps, (width,height))\n",
    "\n",
    "success,frame = cap.read()\n",
    "#To count total num of frames\n",
    "count = 0\n",
    "#write the first frame\n",
    "video_writer.write(frame)\n",
    "while success:\n",
    "    # if count < numOfTTL:\n",
    "    success,frame = cap.read()\n",
    "    video_writer.write(frame)\n",
    "    count += 1\n",
    "    \n",
    "# release&close open kernels\n",
    "cap.release()\n",
    "video_writer.release()\n",
    "cv2.destroyAllWindows()"
   ]
  },
  {
   "cell_type": "code",
   "execution_count": 5,
   "id": "c934c94a",
   "metadata": {},
   "outputs": [
    {
     "name": "stdout",
     "output_type": "stream",
     "text": [
      "122412\n"
     ]
    }
   ],
   "source": [
    "print(count)"
   ]
  },
  {
   "cell_type": "code",
   "execution_count": null,
   "id": "d3573bdf",
   "metadata": {},
   "outputs": [],
   "source": []
  }
 ],
 "metadata": {
  "kernelspec": {
   "display_name": "Python 3 (ipykernel)",
   "language": "python",
   "name": "python3"
  },
  "language_info": {
   "codemirror_mode": {
    "name": "ipython",
    "version": 3
   },
   "file_extension": ".py",
   "mimetype": "text/x-python",
   "name": "python",
   "nbconvert_exporter": "python",
   "pygments_lexer": "ipython3",
   "version": "3.8.8"
  }
 },
 "nbformat": 4,
 "nbformat_minor": 5
}
